{
 "cells": [
  {
   "cell_type": "code",
   "execution_count": 5,
   "metadata": {
    "collapsed": true
   },
   "outputs": [],
   "source": [
    "import itertools\n",
    "\n",
    "import numpy as np\n",
    "import matplotlib.pyplot as plt\n",
    "import scipy.linalg as linalg"
   ]
  },
  {
   "cell_type": "code",
   "execution_count": 6,
   "outputs": [],
   "source": [
    "x = np.array([1., 2., 3.,\n",
    "              # 3.,\n",
    "              4., 5., 6.])\n",
    "y = np.array([3., 4., 2.,\n",
    "              # 2.,\n",
    "              6., 7., 5.])\n",
    "\n",
    "breaks = np.array([1., 3., 6.])"
   ],
   "metadata": {
    "collapsed": false
   }
  },
  {
   "cell_type": "code",
   "execution_count": 7,
   "outputs": [
    {
     "data": {
      "text/plain": "<Figure size 640x480 with 1 Axes>",
      "image/png": "[encoded data removed]"
     },
     "metadata": {},
     "output_type": "display_data"
    }
   ],
   "source": [
    "fig, ax = plt.subplots()\n",
    "ax.plot(x, y, \"o\")\n",
    "ax.set_ylim((0, 8))\n",
    "plt.show()"
   ],
   "metadata": {
    "collapsed": false
   }
  },
  {
   "cell_type": "code",
   "execution_count": 50,
   "outputs": [],
   "source": [
    "import numbers\n",
    "\n",
    "\n",
    "def _assemble_regression_matrix_2(X, breaks, degree=1, continuity=1):\n",
    "    breaks = np.sort(breaks)\n",
    "    if isinstance(degree, numbers.Number):\n",
    "        degree = [degree] * (len(breaks) - 1)\n",
    "    if continuity is not None and isinstance(continuity, numbers.Number):\n",
    "        continuity = [continuity]\n",
    "\n",
    "    Acols = []\n",
    "    bins = np.digitize(X, breaks).clip(None, len(breaks) - 1)\n",
    "    for i, d in enumerate(degree):\n",
    "        for k in range(0, d + 1):\n",
    "            Acols.append(np.where(bins == i+1, X ** k, 0.))\n",
    "\n",
    "    A = np.column_stack(Acols)\n",
    "    if continuity is None:\n",
    "        return A\n",
    "\n"
   ],
   "metadata": {
    "collapsed": false
   }
  },
  {
   "cell_type": "code",
   "execution_count": 51,
   "outputs": [],
   "source": [
    "A = _assemble_regression_matrix_2(x, [1., 3.5, 6.], degree=2)\n",
    "# A = np.array([[1., 1., 0., 0.],\n",
    "#               [1., 2., 0., 0.],\n",
    "#               [1., 3., 0., 0.],\n",
    "#               # [0., 0., 1., 3.],\n",
    "#               [0., 0., 1., 4.],\n",
    "#               [0., 0., 1., 5.],\n",
    "#               [0., 0., 1., 6.]])"
   ],
   "metadata": {
    "collapsed": false
   }
  },
  {
   "cell_type": "code",
   "execution_count": 52,
   "outputs": [
    {
     "data": {
      "text/plain": "array([[ 1.,  1.,  1.,  0.,  0.,  0.],\n       [ 1.,  2.,  4.,  0.,  0.,  0.],\n       [ 1.,  3.,  9.,  0.,  0.,  0.],\n       [ 0.,  0.,  0.,  1.,  4., 16.],\n       [ 0.,  0.,  0.,  1.,  5., 25.],\n       [ 0.,  0.,  0.,  1.,  6., 36.]])"
     },
     "execution_count": 52,
     "metadata": {},
     "output_type": "execute_result"
    }
   ],
   "source": [
    "A"
   ],
   "metadata": {
    "collapsed": false
   }
  },
  {
   "cell_type": "code",
   "execution_count": 42,
   "outputs": [
    {
     "data": {
      "text/plain": "array([[   3.,    6.,   14.,    0.,    0.,    0.],\n       [   6.,   14.,   36.,    0.,    0.,    0.],\n       [  14.,   36.,   98.,    0.,    0.,    0.],\n       [   0.,    0.,    0.,    3.,   15.,   77.],\n       [   0.,    0.,    0.,   15.,   77.,  405.],\n       [   0.,    0.,    0.,   77.,  405., 2177.]])"
     },
     "execution_count": 42,
     "metadata": {},
     "output_type": "execute_result"
    }
   ],
   "source": [
    "A.T @ A"
   ],
   "metadata": {
    "collapsed": false
   }
  },
  {
   "cell_type": "code",
   "execution_count": 43,
   "outputs": [
    {
     "data": {
      "text/plain": "array([  9.,  17.,  37.,  18.,  89., 451.])"
     },
     "execution_count": 43,
     "metadata": {},
     "output_type": "execute_result"
    }
   ],
   "source": [
    "A.T @ y"
   ],
   "metadata": {
    "collapsed": false
   }
  },
  {
   "cell_type": "code",
   "execution_count": 88,
   "outputs": [],
   "source": [
    "beta = linalg.solve(A, y)"
   ],
   "metadata": {
    "collapsed": false
   }
  },
  {
   "cell_type": "code",
   "execution_count": 89,
   "outputs": [],
   "source": [
    "xx = np.linspace(1, 6, 1000)\n",
    "AA = _assemble_regression_matrix_2(xx, breaks, degree=2)\n",
    "yy = np.dot(AA, beta)"
   ],
   "metadata": {
    "collapsed": false
   }
  },
  {
   "cell_type": "code",
   "execution_count": 90,
   "outputs": [
    {
     "data": {
      "text/plain": "array([ -1. ,   5.5,  -1.5, -28. ,  14.5,  -1.5])"
     },
     "execution_count": 90,
     "metadata": {},
     "output_type": "execute_result"
    }
   ],
   "source": [
    "beta"
   ],
   "metadata": {
    "collapsed": false
   }
  },
  {
   "cell_type": "code",
   "execution_count": 91,
   "outputs": [
    {
     "data": {
      "text/plain": "<Figure size 640x480 with 1 Axes>",
      "image/png": "[encoded data removed]"
     },
     "metadata": {},
     "output_type": "display_data"
    }
   ],
   "source": [
    "fig, ax = plt.subplots()\n",
    "ax.plot(x, y, \"o\")\n",
    "ax.plot(xx, yy, \"-\")\n",
    "ax.set_ylim((0, 8))\n",
    "plt.show()"
   ],
   "metadata": {
    "collapsed": false
   }
  },
  {
   "cell_type": "code",
   "execution_count": 116,
   "outputs": [
    {
     "name": "stdout",
     "output_type": "stream",
     "text": [
      "[[ 1. -1. -3.]]\n"
     ]
    }
   ],
   "source": [
    "import itertools\n",
    "degrees = [0, 1]\n",
    "\n",
    "h = []\n",
    "for b, (d0, d1) in zip(breaks[1:-1], itertools.pairwise(degrees)):\n",
    "    h.append(\n",
    "        [b ** k for k in range(d0 + 1)] +\n",
    "        [-1. * b ** k for k in range(d1 + 1)]\n",
    "    )\n",
    "\n",
    "print(np.array(h))"
   ],
   "metadata": {
    "collapsed": false
   }
  },
  {
   "cell_type": "code",
   "execution_count": 102,
   "outputs": [],
   "source": [
    "C = np.array([[1., 3., 9., -1., -3., -9.],\n",
    "              [0., 1., 6., 0., -1., -6.]])\n",
    "Z = np.array([[0.], [0.]])"
   ],
   "metadata": {
    "collapsed": false
   }
  },
  {
   "cell_type": "code",
   "execution_count": 119,
   "outputs": [
    {
     "data": {
      "text/plain": "array([[0.],\n       [0.]])"
     },
     "execution_count": 119,
     "metadata": {},
     "output_type": "execute_result"
    }
   ],
   "source": [
    "np.zeros((C.shape[0], 1))"
   ],
   "metadata": {
    "collapsed": false
   }
  },
  {
   "cell_type": "code",
   "execution_count": 78,
   "outputs": [],
   "source": [
    "_, m = A.shape\n",
    "o, _ = C.shape"
   ],
   "metadata": {
    "collapsed": false
   }
  },
  {
   "cell_type": "code",
   "execution_count": 79,
   "outputs": [],
   "source": [
    "K = np.zeros((m + o, m + o))"
   ],
   "metadata": {
    "collapsed": false
   }
  },
  {
   "cell_type": "code",
   "execution_count": 80,
   "outputs": [],
   "source": [
    "K[:m, :m] = A.T @ A\n",
    "K[:m, m:] = C.T\n",
    "K[m:, :m] = C"
   ],
   "metadata": {
    "collapsed": false
   }
  },
  {
   "cell_type": "code",
   "execution_count": 81,
   "outputs": [],
   "source": [
    "z = np.zeros(m + o)\n",
    "z[:m] = A.T @ y\n",
    "z[m:] = Z.T"
   ],
   "metadata": {
    "collapsed": false
   }
  },
  {
   "cell_type": "code",
   "execution_count": 82,
   "outputs": [
    {
     "data": {
      "text/plain": "array([[ 3.000e+00,  6.000e+00,  1.400e+01,  0.000e+00,  0.000e+00,\n         0.000e+00,  1.000e+00,  0.000e+00],\n       [ 6.000e+00,  1.400e+01,  3.600e+01,  0.000e+00,  0.000e+00,\n         0.000e+00,  3.000e+00,  1.000e+00],\n       [ 1.400e+01,  3.600e+01,  9.800e+01,  0.000e+00,  0.000e+00,\n         0.000e+00,  9.000e+00,  6.000e+00],\n       [ 0.000e+00,  0.000e+00,  0.000e+00,  3.000e+00,  1.500e+01,\n         7.700e+01, -1.000e+00,  0.000e+00],\n       [ 0.000e+00,  0.000e+00,  0.000e+00,  1.500e+01,  7.700e+01,\n         4.050e+02, -3.000e+00, -1.000e+00],\n       [ 0.000e+00,  0.000e+00,  0.000e+00,  7.700e+01,  4.050e+02,\n         2.177e+03, -9.000e+00, -6.000e+00],\n       [ 1.000e+00,  3.000e+00,  9.000e+00, -1.000e+00, -3.000e+00,\n        -9.000e+00,  0.000e+00,  0.000e+00],\n       [ 0.000e+00,  1.000e+00,  6.000e+00,  0.000e+00, -1.000e+00,\n        -6.000e+00,  0.000e+00,  0.000e+00]])"
     },
     "execution_count": 82,
     "metadata": {},
     "output_type": "execute_result"
    }
   ],
   "source": [
    "K"
   ],
   "metadata": {
    "collapsed": false
   }
  },
  {
   "cell_type": "code",
   "execution_count": 83,
   "outputs": [
    {
     "data": {
      "text/plain": "array([  9.,  17.,  37.,  18.,  89., 451.,   0.,   0.])"
     },
     "execution_count": 83,
     "metadata": {},
     "output_type": "execute_result"
    }
   ],
   "source": [
    "z"
   ],
   "metadata": {
    "collapsed": false
   }
  },
  {
   "cell_type": "code",
   "execution_count": 84,
   "outputs": [],
   "source": [
    "beta_prime = linalg.solve(K, z)\n",
    "beta = beta_prime[:m]"
   ],
   "metadata": {
    "collapsed": false
   }
  },
  {
   "cell_type": "code",
   "execution_count": 85,
   "outputs": [],
   "source": [
    "xx = np.linspace(1, 6, 1000)\n",
    "AA = _assemble_regression_matrix_2(xx, breaks, degree=2)\n",
    "yy = np.dot(AA, beta)"
   ],
   "metadata": {
    "collapsed": false
   }
  },
  {
   "cell_type": "code",
   "execution_count": 86,
   "outputs": [
    {
     "data": {
      "text/plain": "array([ 6.48905109, -4.23201251,  1.11835245, -9.47445255,  6.41032325,\n       -0.65537018])"
     },
     "execution_count": 86,
     "metadata": {},
     "output_type": "execute_result"
    }
   ],
   "source": [
    "beta"
   ],
   "metadata": {
    "collapsed": false
   }
  },
  {
   "cell_type": "code",
   "execution_count": 87,
   "outputs": [
    {
     "data": {
      "text/plain": "<Figure size 640x480 with 1 Axes>",
      "image/png": "[encoded data removed]"
     },
     "metadata": {},
     "output_type": "display_data"
    }
   ],
   "source": [
    "fig, ax = plt.subplots()\n",
    "ax.plot(x, y, \"o\")\n",
    "ax.plot(xx, yy, \"-\")\n",
    "ax.set_ylim((0, 8))\n",
    "plt.show()"
   ],
   "metadata": {
    "collapsed": false
   }
  },
  {
   "cell_type": "code",
   "execution_count": 49,
   "outputs": [
    {
     "name": "stdout",
     "output_type": "stream",
     "text": [
      "1.0 0\n",
      "3.0 1\n"
     ]
    },
    {
     "data": {
      "text/plain": "array([[1., 0., 0.],\n       [1., 0., 0.],\n       [0., 1., 3.],\n       [0., 1., 4.],\n       [0., 1., 5.],\n       [0., 1., 6.]])"
     },
     "execution_count": 49,
     "metadata": {},
     "output_type": "execute_result"
    }
   ],
   "source": [
    "_assemble_regression_matrix_2(x, breaks, degree=[0, 1])"
   ],
   "metadata": {
    "collapsed": false
   }
  },
  {
   "cell_type": "code",
   "execution_count": 195,
   "outputs": [],
   "source": [
    "A = np.array([[1., 0., 0.],\n",
    "              [1., 0., 0.],\n",
    "              [1., 0., 0.],\n",
    "              [0., 1., 4.],\n",
    "              [0., 1., 5.],\n",
    "              [0., 1., 6.]])"
   ],
   "metadata": {
    "collapsed": false
   }
  },
  {
   "cell_type": "code",
   "execution_count": 199,
   "outputs": [],
   "source": [
    "beta = linalg.solve(A.T @ A, A.T @ y)"
   ],
   "metadata": {
    "collapsed": false
   }
  },
  {
   "cell_type": "code",
   "execution_count": 200,
   "outputs": [],
   "source": [
    "xx = np.linspace(1, 6, 1000)\n",
    "AA = _assemble_regression_matrix_2(xx, breaks, degree=[0, 1])\n",
    "yy = np.dot(AA, beta)"
   ],
   "metadata": {
    "collapsed": false
   }
  },
  {
   "cell_type": "code",
   "execution_count": 201,
   "outputs": [
    {
     "data": {
      "text/plain": "<Figure size 640x480 with 1 Axes>",
      "image/png": "[encoded data removed]"
     },
     "metadata": {},
     "output_type": "display_data"
    }
   ],
   "source": [
    "fig, ax = plt.subplots()\n",
    "ax.plot(x, y, \"o\")\n",
    "ax.plot(xx, yy, \"-\")\n",
    "ax.set_ylim((0, 8))\n",
    "plt.show()"
   ],
   "metadata": {
    "collapsed": false
   }
  },
  {
   "cell_type": "code",
   "execution_count": 202,
   "outputs": [],
   "source": [
    "C = np.array([[1., -1., -3.]])\n",
    "Z = np.array([[0.]])"
   ],
   "metadata": {
    "collapsed": false
   }
  },
  {
   "cell_type": "code",
   "execution_count": 203,
   "outputs": [],
   "source": [
    "_, m = A.shape\n",
    "o, _ = C.shape"
   ],
   "metadata": {
    "collapsed": false
   }
  },
  {
   "cell_type": "code",
   "execution_count": 204,
   "outputs": [],
   "source": [
    "K = np.zeros((m + o, m + o))"
   ],
   "metadata": {
    "collapsed": false
   }
  },
  {
   "cell_type": "code",
   "execution_count": 205,
   "outputs": [],
   "source": [
    "K[:m, :m] = A.T @ A\n",
    "K[:m, m:] = C.T\n",
    "K[m:, :m] = C"
   ],
   "metadata": {
    "collapsed": false
   }
  },
  {
   "cell_type": "code",
   "execution_count": 206,
   "outputs": [],
   "source": [
    "z = np.zeros(m + o)\n",
    "z[:m] = A.T @ y\n",
    "z[m:] = Z.T"
   ],
   "metadata": {
    "collapsed": false
   }
  },
  {
   "cell_type": "code",
   "execution_count": 207,
   "outputs": [
    {
     "data": {
      "text/plain": "array([[ 3.,  0.,  0.,  1.],\n       [ 0.,  3., 15., -1.],\n       [ 0., 15., 77., -3.],\n       [ 1., -1., -3.,  0.]])"
     },
     "execution_count": 207,
     "metadata": {},
     "output_type": "execute_result"
    }
   ],
   "source": [
    "K"
   ],
   "metadata": {
    "collapsed": false
   }
  },
  {
   "cell_type": "code",
   "execution_count": 208,
   "outputs": [
    {
     "data": {
      "text/plain": "array([ 9., 18., 89.,  0.])"
     },
     "execution_count": 208,
     "metadata": {},
     "output_type": "execute_result"
    }
   ],
   "source": [
    "z"
   ],
   "metadata": {
    "collapsed": false
   }
  },
  {
   "cell_type": "code",
   "execution_count": 209,
   "outputs": [],
   "source": [
    "beta_prime = linalg.solve(K, z)\n",
    "beta = beta_prime[:m]"
   ],
   "metadata": {
    "collapsed": false
   }
  },
  {
   "cell_type": "code",
   "execution_count": 210,
   "outputs": [
    {
     "data": {
      "text/plain": "array([3.5, 0.5, 1. ])"
     },
     "execution_count": 210,
     "metadata": {},
     "output_type": "execute_result"
    }
   ],
   "source": [
    "beta"
   ],
   "metadata": {
    "collapsed": false
   }
  },
  {
   "cell_type": "code",
   "execution_count": 219,
   "outputs": [],
   "source": [
    "xx = np.linspace(1, 6, 1000)\n",
    "AA = _assemble_regression_matrix_2(xx, breaks, degree=[0, 1])\n",
    "yy = np.dot(AA, beta)"
   ],
   "metadata": {
    "collapsed": false
   }
  },
  {
   "cell_type": "code",
   "execution_count": 220,
   "outputs": [
    {
     "data": {
      "text/plain": "<Figure size 640x480 with 1 Axes>",
      "image/png": "[encoded data removed]"
     },
     "metadata": {},
     "output_type": "display_data"
    }
   ],
   "source": [
    "fig, ax = plt.subplots()\n",
    "ax.plot(x, y, \"o\")\n",
    "ax.plot(xx, yy, \"-\")\n",
    "ax.set_ylim((0, 8))\n",
    "plt.show()"
   ],
   "metadata": {
    "collapsed": false
   }
  },
  {
   "cell_type": "code",
   "execution_count": null,
   "outputs": [],
   "source": [],
   "metadata": {
    "collapsed": false
   }
  }
 ],
 "metadata": {
  "kernelspec": {
   "display_name": "Python 3",
   "language": "python",
   "name": "python3"
  },
  "language_info": {
   "codemirror_mode": {
    "name": "ipython",
    "version": 2
   },
   "file_extension": ".py",
   "mimetype": "text/x-python",
   "name": "python",
   "nbconvert_exporter": "python",
   "pygments_lexer": "ipython2",
   "version": "2.7.6"
  }
 },
 "nbformat": 4,
 "nbformat_minor": 0
}
