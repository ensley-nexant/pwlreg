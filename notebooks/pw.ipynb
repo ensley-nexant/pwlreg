{
 "cells": [
  {
   "cell_type": "code",
   "execution_count": 1,
   "metadata": {
    "collapsed": true
   },
   "outputs": [],
   "source": [
    "import itertools\n",
    "\n",
    "import numpy as np\n",
    "import matplotlib.pyplot as plt\n",
    "import scipy.linalg as linalg"
   ]
  },
  {
   "cell_type": "code",
   "execution_count": 122,
   "outputs": [],
   "source": [
    "x = np.array([1., 2., 3.,\n",
    "              # 3.,\n",
    "              4., 5., 6.])\n",
    "y = np.array([3., 4., 2.,\n",
    "              # 2.,\n",
    "              6., 7., 5.])\n",
    "\n",
    "weights = np.ones(shape=(len(x),))\n",
    "weights[1] = 100."
   ],
   "metadata": {
    "collapsed": false
   }
  },
  {
   "cell_type": "code",
   "execution_count": 123,
   "outputs": [
    {
     "data": {
      "text/plain": "<Figure size 640x480 with 1 Axes>",
      "image/png": "[encoded data removed]"
     },
     "metadata": {},
     "output_type": "display_data"
    }
   ],
   "source": [
    "fig, ax = plt.subplots()\n",
    "ax.plot(x, y, \"o\")\n",
    "ax.set_ylim((0, 8))\n",
    "plt.show()"
   ],
   "metadata": {
    "collapsed": false
   }
  },
  {
   "cell_type": "code",
   "execution_count": 156,
   "outputs": [],
   "source": [
    "import numbers\n",
    "\n",
    "\n",
    "def _assemble_regression_matrix(X, breaks, degree=1):\n",
    "    Acols = []\n",
    "    bins = np.digitize(X, breaks).clip(None, len(breaks) - 1)\n",
    "    for i, d in enumerate(degree):\n",
    "        for k in range(d + 1):\n",
    "            Acols.append(np.where(bins == i+1, X ** k, 0.))\n",
    "\n",
    "    A = np.column_stack(Acols)\n",
    "    return A\n",
    "\n",
    "\n",
    "def _assemble_continuity_constraints(breaks, degree=1):\n",
    "    m = len(degree) + sum(degree)\n",
    "    Crows = []\n",
    "    i = 0\n",
    "    for b, (d0, d1) in zip(breaks[1:-1], itertools.pairwise(degree)):\n",
    "        row = np.zeros(m)\n",
    "        row[i:(i+d0+1)] = [b ** k for k in range(d0 + 1)]\n",
    "        row[(i+d0+1):(i+d0+d1+2)] = [-1. * b ** k for k in range(d1 + 1)]\n",
    "        Crows.append(row)\n",
    "        i += d0 + 1\n",
    "\n",
    "    C = np.row_stack(Crows)\n",
    "    return C\n",
    "\n",
    "\n",
    "def _lstsq_constrained(X, y, breaks, degree=1, continuity=\"c0\", weights=None):\n",
    "    breaks = np.sort(breaks)\n",
    "    if isinstance(degree, numbers.Number):\n",
    "        degree = [degree] * (len(breaks) - 1)\n",
    "\n",
    "    A = _assemble_regression_matrix(X, breaks, degree)\n",
    "    n, p = A.shape\n",
    "\n",
    "    if weights is None:\n",
    "        weights = np.ones(shape=n)\n",
    "\n",
    "    Aw = A * weights.reshape(-1, 1)\n",
    "    yw = y * weights\n",
    "\n",
    "    if continuity is not None and len(breaks) > 2:\n",
    "        C = _assemble_continuity_constraints(breaks, degree)\n",
    "        r, _ = C.shape\n",
    "\n",
    "        K = np.zeros((p + r, p + r))\n",
    "        K[:p, :p] = np.dot(Aw.T, Aw)\n",
    "        K[:p, p:] = C.T\n",
    "        K[p:, :p] = C\n",
    "\n",
    "        Z = np.zeros(p + r)\n",
    "        Z[:p] = np.dot(Aw.T, yw)\n",
    "\n",
    "        beta = linalg.solve(K, Z)\n",
    "        coef = beta[:p]\n",
    "\n",
    "        e = np.dot(A, coef) - y\n",
    "        ssr = np.dot(e, e)\n",
    "    else:\n",
    "        coef, ssr, _, _ = linalg.lstsq(Aw, yw)\n",
    "\n",
    "    return coef, ssr"
   ],
   "metadata": {
    "collapsed": false
   }
  },
  {
   "cell_type": "code",
   "execution_count": 157,
   "outputs": [
    {
     "data": {
      "text/plain": "array([3., 4., 2., 6., 7., 5.])"
     },
     "execution_count": 157,
     "metadata": {},
     "output_type": "execute_result"
    }
   ],
   "source": [
    "y"
   ],
   "metadata": {
    "collapsed": false
   }
  },
  {
   "cell_type": "code",
   "execution_count": 158,
   "outputs": [],
   "source": [
    "coefs = _lstsq_constrained(x, y, [1., 3.5, 6.], degree=[0, 1], weights=weights, continuity=\"c0\")"
   ],
   "metadata": {
    "collapsed": false
   }
  },
  {
   "cell_type": "code",
   "execution_count": 159,
   "outputs": [
    {
     "data": {
      "text/plain": "(array([3.9998886 , 0.79968808, 0.91434301]), 11.685466071597638)"
     },
     "execution_count": 159,
     "metadata": {},
     "output_type": "execute_result"
    }
   ],
   "source": [
    "coefs"
   ],
   "metadata": {
    "collapsed": false
   }
  },
  {
   "cell_type": "code",
   "execution_count": 160,
   "outputs": [],
   "source": [
    "coefs = _lstsq_constrained(x, y, [1., 3.5, 6.], degree=[0, 1], weights=weights, continuity=None)"
   ],
   "metadata": {
    "collapsed": false
   }
  },
  {
   "cell_type": "code",
   "execution_count": 161,
   "outputs": [
    {
     "data": {
      "text/plain": "(array([ 3.99970006,  8.5       , -0.5       ]), 6.499100179963999)"
     },
     "execution_count": 161,
     "metadata": {},
     "output_type": "execute_result"
    }
   ],
   "source": [
    "coefs"
   ],
   "metadata": {
    "collapsed": false
   }
  },
  {
   "cell_type": "code",
   "execution_count": 137,
   "outputs": [],
   "source": [
    "xx = np.linspace(1, 6, 1000)\n",
    "AA = _assemble_regression_matrix(xx, [1., 3.5, 6.], degree=[0, 1])\n",
    "yy = np.dot(AA, coefs)"
   ],
   "metadata": {
    "collapsed": false
   }
  },
  {
   "cell_type": "code",
   "execution_count": 138,
   "outputs": [
    {
     "data": {
      "text/plain": "<Figure size 640x480 with 1 Axes>",
      "image/png": "[encoded data removed]"
     },
     "metadata": {},
     "output_type": "display_data"
    }
   ],
   "source": [
    "fig, ax = plt.subplots()\n",
    "ax.plot(x, y, \"o\")\n",
    "ax.plot(xx, yy, \"-\")\n",
    "ax.set_ylim((0, 8))\n",
    "plt.show()"
   ],
   "metadata": {
    "collapsed": false
   }
  },
  {
   "cell_type": "code",
   "execution_count": null,
   "outputs": [],
   "source": [],
   "metadata": {
    "collapsed": false
   }
  }
 ],
 "metadata": {
  "kernelspec": {
   "display_name": "Python 3",
   "language": "python",
   "name": "python3"
  },
  "language_info": {
   "codemirror_mode": {
    "name": "ipython",
    "version": 2
   },
   "file_extension": ".py",
   "mimetype": "text/x-python",
   "name": "python",
   "nbconvert_exporter": "python",
   "pygments_lexer": "ipython2",
   "version": "2.7.6"
  }
 },
 "nbformat": 4,
 "nbformat_minor": 0
}
